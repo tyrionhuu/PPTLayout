{
 "cells": [
  {
   "cell_type": "markdown",
   "metadata": {},
   "source": [
    "## Display the xml element tree"
   ]
  },
  {
   "cell_type": "code",
   "execution_count": null,
   "metadata": {
    "jupyter": {
     "is_executing": true
    }
   },
   "outputs": [],
   "source": [
    "from pptlayout.extractors.run_extractors import run_extractors\n",
    "from json import dumps\n",
    "# Replace with your actual PPTX file path\n",
    "pptx_path = \"/data/tianyuhu/PPTLayout/data/pptx/ZK7FNUZ33GBBCG7CFVYS56TQCTD72CJR.pptx\"\n",
    "\n",
    "# Run extractors\n",
    "info = run_extractors(pptx_path, \"emu\")\n",
    "print(dumps(info, indent=4))"
   ]
  },
  {
   "cell_type": "code",
   "execution_count": null,
   "metadata": {},
   "outputs": [],
   "source": [
    "from pptlayout.llm.call_ollama import generate_slide_layout_suggestions\n",
    "from pptlayout.llm.prompts import build_slide_layout_suggestion_prompts\n",
    "\n",
    "# Call OLLAMA\n",
    "slide_info = info[\"slides\"][0]\n",
    "prompt = build_slide_layout_suggestion_prompts(\n",
    "    json_input=slide_info, \n",
    "    slide_width=info[\"slide_width\"],\n",
    "    slide_height=info[\"slide_height\"]\n",
    "    )\n",
    "suggestions = generate_slide_layout_suggestions(\n",
    "    model_name=\"llama3.1:70b\",\n",
    "    prompt=prompt,\n",
    "    temperature=0.5,\n",
    "    )\n",
    "print(suggestions)"
   ]
  }
 ],
 "metadata": {
  "kernelspec": {
   "display_name": "pptlayout",
   "language": "python",
   "name": "python3"
  },
  "language_info": {
   "codemirror_mode": {
    "name": "ipython",
    "version": 3
   },
   "file_extension": ".py",
   "mimetype": "text/x-python",
   "name": "python",
   "nbconvert_exporter": "python",
   "pygments_lexer": "ipython3",
   "version": "3.11.10"
  }
 },
 "nbformat": 4,
 "nbformat_minor": 4
}
