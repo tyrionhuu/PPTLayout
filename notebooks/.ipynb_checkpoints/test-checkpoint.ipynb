{
 "cells": [
  {
   "cell_type": "markdown",
   "metadata": {},
   "source": [
    "## Display the xml element tree"
   ]
  },
  {
   "cell_type": "code",
   "execution_count": 1,
   "metadata": {
    "jupyter": {
     "is_executing": true
    }
   },
   "outputs": [
    {
     "ename": "FileNotFoundError",
     "evalue": "[Errno 2] No such file or directory: 'your_input_directory_path'",
     "output_type": "error",
     "traceback": [
      "\u001b[0;31m---------------------------------------------------------------------------\u001b[0m",
      "\u001b[0;31mFileNotFoundError\u001b[0m                         Traceback (most recent call last)",
      "Cell \u001b[0;32mIn[1], line 29\u001b[0m\n\u001b[1;32m     26\u001b[0m input_directory \u001b[38;5;241m=\u001b[39m \u001b[38;5;124m\"\u001b[39m\u001b[38;5;124myour_input_directory_path\u001b[39m\u001b[38;5;124m\"\u001b[39m\n\u001b[1;32m     27\u001b[0m output_directory \u001b[38;5;241m=\u001b[39m \u001b[38;5;124m\"\u001b[39m\u001b[38;5;124myour_output_directory_path\u001b[39m\u001b[38;5;124m\"\u001b[39m\n\u001b[0;32m---> 29\u001b[0m \u001b[43mconvert_all_presentations_in_directory\u001b[49m\u001b[43m(\u001b[49m\u001b[43minput_directory\u001b[49m\u001b[43m,\u001b[49m\u001b[43m \u001b[49m\u001b[43moutput_directory\u001b[49m\u001b[43m)\u001b[49m\n",
      "Cell \u001b[0;32mIn[1], line 18\u001b[0m, in \u001b[0;36mconvert_all_presentations_in_directory\u001b[0;34m(input_directory, output_directory)\u001b[0m\n\u001b[1;32m     15\u001b[0m os\u001b[38;5;241m.\u001b[39mmakedirs(output_directory, exist_ok\u001b[38;5;241m=\u001b[39m\u001b[38;5;28;01mTrue\u001b[39;00m)\n\u001b[1;32m     17\u001b[0m \u001b[38;5;66;03m# Iterate through all files in the specified input directory\u001b[39;00m\n\u001b[0;32m---> 18\u001b[0m \u001b[38;5;28;01mfor\u001b[39;00m filename \u001b[38;5;129;01min\u001b[39;00m \u001b[43mos\u001b[49m\u001b[38;5;241;43m.\u001b[39;49m\u001b[43mlistdir\u001b[49m\u001b[43m(\u001b[49m\u001b[43minput_directory\u001b[49m\u001b[43m)\u001b[49m:\n\u001b[1;32m     19\u001b[0m     \u001b[38;5;66;03m# Check if the file has a supported extension\u001b[39;00m\n\u001b[1;32m     20\u001b[0m     \u001b[38;5;28;01mif\u001b[39;00m filename\u001b[38;5;241m.\u001b[39mendswith(supported_extensions):\n\u001b[1;32m     21\u001b[0m         file_path \u001b[38;5;241m=\u001b[39m os\u001b[38;5;241m.\u001b[39mpath\u001b[38;5;241m.\u001b[39mjoin(input_directory, filename)\n",
      "\u001b[0;31mFileNotFoundError\u001b[0m: [Errno 2] No such file or directory: 'your_input_directory_path'"
     ]
    }
   ],
   "source": [
    "import os\n",
    "import subprocess\n",
    "\n",
    "def convert_file_to_pptx(file_path, output_directory):\n",
    "    \"\"\"Convert a presentation file to .pptx format using LibreOffice.\"\"\"\n",
    "    # Use subprocess to run the LibreOffice conversion command\n",
    "    subprocess.run([\"libreoffice\", \"--headless\", \"--convert-to\", \"pptx\", \"--outdir\", output_directory, file_path])\n",
    "\n",
    "def convert_all_presentations_in_directory(input_directory, output_directory):\n",
    "    \"\"\"Convert all supported presentation files in a directory to .pptx format.\"\"\"\n",
    "    # Define the list of file extensions to convert\n",
    "    supported_extensions = (\".ppt\", \".pps\", \".ppsx\", \".pptm\", \".pot\")\n",
    "\n",
    "    # Ensure the output directory exists\n",
    "    os.makedirs(output_directory, exist_ok=True)\n",
    "\n",
    "    # Iterate through all files in the specified input directory\n",
    "    for filename in os.listdir(input_directory):\n",
    "        # Check if the file has a supported extension\n",
    "        if filename.endswith(supported_extensions):\n",
    "            file_path = os.path.join(input_directory, filename)\n",
    "            print(f\"Converting '{file_path}' to .pptx...\")\n",
    "            convert_file_to_pptx(file_path, output_directory)\n",
    "\n",
    "# Replace these paths with your actual directories\n",
    "input_directory = \"/Users/tyrionhuu/Downloads/ppt\"\n",
    "output_directory = \"/Users/tyrionhuu/Downloads/pptx\"\n",
    "\n",
    "convert_all_presentations_in_directory(input_directory, output_directory)\n"
   ]
  },
  {
   "cell_type": "code",
   "execution_count": null,
   "metadata": {},
   "outputs": [],
   "source": []
  }
 ],
 "metadata": {
  "kernelspec": {
   "display_name": "Python 3 (ipykernel)",
   "language": "python",
   "name": "python3"
  },
  "language_info": {
   "codemirror_mode": {
    "name": "ipython",
    "version": 3
   },
   "file_extension": ".py",
   "mimetype": "text/x-python",
   "name": "python",
   "nbconvert_exporter": "python",
   "pygments_lexer": "ipython3",
   "version": "3.11.10"
  }
 },
 "nbformat": 4,
 "nbformat_minor": 4
}
