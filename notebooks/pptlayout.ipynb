{
 "cells": [
  {
   "cell_type": "markdown",
   "metadata": {},
   "source": [
    "# PPTLayout notebook\n",
    "\n",
    "Please run this notebook in the root directory of the repository."
   ]
  },
  {
   "cell_type": "code",
   "execution_count": 1,
   "metadata": {},
   "outputs": [],
   "source": [
    "%load_ext autoreload\n",
    "%autoreload 2"
   ]
  },
  {
   "cell_type": "code",
   "execution_count": 2,
   "metadata": {},
   "outputs": [],
   "source": [
    "import os\n",
    "import sys\n",
    "sys.path.append(os.path.join(os.getcwd(), '../src/pptlayout'))"
   ]
  },
  {
   "cell_type": "markdown",
   "metadata": {},
   "source": [
    "## Process dataset"
   ]
  },
  {
   "cell_type": "code",
   "execution_count": 3,
   "metadata": {},
   "outputs": [],
   "source": [
    "\n",
    "from utils import powerpoint_dataset_json_converter  # noqa: E402\n",
    "\n",
    "data_dir = os.path.join(os.getcwd(), '../data')"
   ]
  },
  {
   "cell_type": "code",
   "execution_count": null,
   "metadata": {},
   "outputs": [],
   "source": [
    "\n",
    "powerpoint_dataset_json_converter(data_dir, \"dataset.txt\", \"dataset.json\")"
   ]
  },
  {
   "cell_type": "code",
   "execution_count": 4,
   "metadata": {},
   "outputs": [
    {
     "name": "stderr",
     "output_type": "stream",
     "text": [
      "Processing data...:   0%|          | 0/23072 [00:00<?, ?it/s]\n"
     ]
    },
    {
     "ename": "KeyError",
     "evalue": "'bounding_boxes'",
     "output_type": "error",
     "traceback": [
      "\u001b[0;31m---------------------------------------------------------------------------\u001b[0m",
      "\u001b[0;31mKeyError\u001b[0m                                  Traceback (most recent call last)",
      "Cell \u001b[0;32mIn[4], line 37\u001b[0m\n\u001b[1;32m     33\u001b[0m         write_pt(processed_test_data, os\u001b[38;5;241m.\u001b[39mpath\u001b[38;5;241m.\u001b[39mjoin(data_dir, \u001b[38;5;124m\"\u001b[39m\u001b[38;5;124mprocessed\u001b[39m\u001b[38;5;124m\"\u001b[39m, task, \u001b[38;5;124m\"\u001b[39m\u001b[38;5;124mtest.pt\u001b[39m\u001b[38;5;124m\"\u001b[39m))\n\u001b[1;32m     35\u001b[0m     \u001b[38;5;28;01mreturn\u001b[39;00m processed_train_data, processed_val_data, processed_test_data\n\u001b[0;32m---> 37\u001b[0m train_data, val_data, test_data \u001b[38;5;241m=\u001b[39m \u001b[43mget_processed_data\u001b[49m\u001b[43m(\u001b[49m\u001b[43m)\u001b[49m\n",
      "Cell \u001b[0;32mIn[4], line 26\u001b[0m, in \u001b[0;36mget_processed_data\u001b[0;34m()\u001b[0m\n\u001b[1;32m     24\u001b[0m     data \u001b[38;5;241m=\u001b[39m json\u001b[38;5;241m.\u001b[39mload(f)\n\u001b[1;32m     25\u001b[0m \u001b[38;5;28;01mfor\u001b[39;00m d \u001b[38;5;129;01min\u001b[39;00m tqdm(data, desc\u001b[38;5;241m=\u001b[39m\u001b[38;5;124m\"\u001b[39m\u001b[38;5;124mProcessing data...\u001b[39m\u001b[38;5;124m\"\u001b[39m):\n\u001b[0;32m---> 26\u001b[0m     processed_data\u001b[38;5;241m.\u001b[39mappend(\u001b[43mprocessor\u001b[49m\u001b[43m(\u001b[49m\u001b[43md\u001b[49m\u001b[43m)\u001b[49m)\n\u001b[1;32m     28\u001b[0m processed_train_data, processed_val_data \u001b[38;5;241m=\u001b[39m train_test_split(processed_data, test_size\u001b[38;5;241m=\u001b[39m\u001b[38;5;241m0.2\u001b[39m)\n\u001b[1;32m     29\u001b[0m processed_train_data, processed_test_data \u001b[38;5;241m=\u001b[39m train_test_split(processed_train_data, test_size\u001b[38;5;241m=\u001b[39m\u001b[38;5;241m0.1\u001b[39m)\n",
      "File \u001b[0;32m~/PPTLayout/notebooks/../src/pptlayout/preprocessor.py:67\u001b[0m, in \u001b[0;36mProcessor.__call__\u001b[0;34m(self, data)\u001b[0m\n\u001b[1;32m     66\u001b[0m \u001b[38;5;28;01mdef\u001b[39;00m \u001b[38;5;21m__call__\u001b[39m(\u001b[38;5;28mself\u001b[39m, data):\n\u001b[0;32m---> 67\u001b[0m     _data \u001b[38;5;241m=\u001b[39m \u001b[38;5;28;43mself\u001b[39;49m\u001b[38;5;241;43m.\u001b[39;49m\u001b[43mtransform\u001b[49m\u001b[43m(\u001b[49m\u001b[43mcopy\u001b[49m\u001b[38;5;241;43m.\u001b[39;49m\u001b[43mdeepcopy\u001b[49m\u001b[43m(\u001b[49m\u001b[43mdata\u001b[49m\u001b[43m)\u001b[49m\u001b[43m)\u001b[49m\n\u001b[1;32m     68\u001b[0m     \u001b[38;5;28;01mreturn\u001b[39;00m {k: _data[k] \u001b[38;5;28;01mfor\u001b[39;00m k \u001b[38;5;129;01min\u001b[39;00m \u001b[38;5;28mself\u001b[39m\u001b[38;5;241m.\u001b[39mreturn_keys}\n",
      "File \u001b[0;32m~/anaconda3/envs/pptlayout/lib/python3.11/site-packages/torchvision/transforms/transforms.py:95\u001b[0m, in \u001b[0;36mCompose.__call__\u001b[0;34m(self, img)\u001b[0m\n\u001b[1;32m     93\u001b[0m \u001b[38;5;28;01mdef\u001b[39;00m \u001b[38;5;21m__call__\u001b[39m(\u001b[38;5;28mself\u001b[39m, img):\n\u001b[1;32m     94\u001b[0m     \u001b[38;5;28;01mfor\u001b[39;00m t \u001b[38;5;129;01min\u001b[39;00m \u001b[38;5;28mself\u001b[39m\u001b[38;5;241m.\u001b[39mtransforms:\n\u001b[0;32m---> 95\u001b[0m         img \u001b[38;5;241m=\u001b[39m \u001b[43mt\u001b[49m\u001b[43m(\u001b[49m\u001b[43mimg\u001b[49m\u001b[43m)\u001b[49m\n\u001b[1;32m     96\u001b[0m     \u001b[38;5;28;01mreturn\u001b[39;00m img\n",
      "File \u001b[0;32m~/PPTLayout/notebooks/../src/pptlayout/operators.py:61\u001b[0m, in \u001b[0;36mLexicographicSort.__call__\u001b[0;34m(self, data)\u001b[0m\n\u001b[1;32m     59\u001b[0m \u001b[38;5;28;01mdef\u001b[39;00m \u001b[38;5;21m__call__\u001b[39m(\u001b[38;5;28mself\u001b[39m, data):\n\u001b[1;32m     60\u001b[0m     \u001b[38;5;28;01mif\u001b[39;00m \u001b[38;5;124m\"\u001b[39m\u001b[38;5;124mgold_bounding_boxes\u001b[39m\u001b[38;5;124m\"\u001b[39m \u001b[38;5;129;01mnot\u001b[39;00m \u001b[38;5;129;01min\u001b[39;00m data\u001b[38;5;241m.\u001b[39mkeys():\n\u001b[0;32m---> 61\u001b[0m         data[\u001b[38;5;124m\"\u001b[39m\u001b[38;5;124mgold_bounding_boxes\u001b[39m\u001b[38;5;124m\"\u001b[39m] \u001b[38;5;241m=\u001b[39m copy\u001b[38;5;241m.\u001b[39mdeepcopy(\u001b[43mdata\u001b[49m\u001b[43m[\u001b[49m\u001b[38;5;124;43m\"\u001b[39;49m\u001b[38;5;124;43mbounding_boxes\u001b[39;49m\u001b[38;5;124;43m\"\u001b[39;49m\u001b[43m]\u001b[49m)\n\u001b[1;32m     62\u001b[0m     l, t, _, _ \u001b[38;5;241m=\u001b[39m data[\u001b[38;5;124m\"\u001b[39m\u001b[38;5;124mbounding_boxes\u001b[39m\u001b[38;5;124m\"\u001b[39m]\u001b[38;5;241m.\u001b[39mt()\n\u001b[1;32m     63\u001b[0m     _zip \u001b[38;5;241m=\u001b[39m \u001b[38;5;28mzip\u001b[39m(\u001b[38;5;241m*\u001b[39m\u001b[38;5;28msorted\u001b[39m(\u001b[38;5;28menumerate\u001b[39m(\u001b[38;5;28mzip\u001b[39m(t, l)), key\u001b[38;5;241m=\u001b[39m\u001b[38;5;28;01mlambda\u001b[39;00m c: c[\u001b[38;5;241m1\u001b[39m:]))\n",
      "\u001b[0;31mKeyError\u001b[0m: 'bounding_boxes'"
     ]
    }
   ],
   "source": [
    "from preprocessor import create_processor\n",
    "from sklearn.model_selection import train_test_split\n",
    "from utils import read_pt, write_pt\n",
    "import json\n",
    "from tqdm import tqdm\n",
    "\n",
    "task = 'pptlayout'\n",
    "dataset = 'pptlayout'\n",
    "\n",
    "processor = create_processor(dataset=dataset, task=task)\n",
    "\n",
    "def get_processed_data():\n",
    "    filename = os.path.join(\n",
    "        data_dir, \"processed\", task, f\"dataset.pt\"\n",
    "    )\n",
    "    if os.path.exists(filename):\n",
    "        processed_data = read_pt(filename)\n",
    "    else:\n",
    "        processed_data = []\n",
    "        os.makedirs(os.path.dirname(filename), exist_ok=True)\n",
    "        \n",
    "        json_path = os.path.join(data_dir, \"dataset.json\")\n",
    "        with open(json_path, \"r\") as f:\n",
    "            data = json.load(f)\n",
    "        for d in tqdm(data, desc=\"Processing data...\"):\n",
    "            processed_data.append(processor(d))\n",
    "            \n",
    "        processed_train_data, processed_val_data = train_test_split(processed_data, test_size=0.2)\n",
    "        processed_train_data, processed_test_data = train_test_split(processed_train_data, test_size=0.1)\n",
    "        \n",
    "        write_pt(processed_train_data, os.path.join(data_dir, \"processed\", task, \"train.pt\"))\n",
    "        write_pt(processed_val_data, os.path.join(data_dir, \"processed\", task, \"val.pt\"))\n",
    "        write_pt(processed_test_data, os.path.join(data_dir, \"processed\", task, \"test.pt\"))\n",
    "        \n",
    "    return processed_train_data, processed_val_data, processed_test_data\n",
    "\n",
    "train_data, val_data, test_data = get_processed_data()"
   ]
  },
  {
   "cell_type": "code",
   "execution_count": 5,
   "metadata": {},
   "outputs": [
    {
     "ename": "NameError",
     "evalue": "name 'test_data' is not defined",
     "output_type": "error",
     "traceback": [
      "\u001b[0;31m---------------------------------------------------------------------------\u001b[0m",
      "\u001b[0;31mNameError\u001b[0m                                 Traceback (most recent call last)",
      "Cell \u001b[0;32mIn[5], line 1\u001b[0m\n\u001b[0;32m----> 1\u001b[0m \u001b[43mtest_data\u001b[49m\n",
      "\u001b[0;31mNameError\u001b[0m: name 'test_data' is not defined"
     ]
    }
   ],
   "source": []
  },
  {
   "cell_type": "code",
   "execution_count": null,
   "metadata": {},
   "outputs": [],
   "source": []
  }
 ],
 "metadata": {
  "kernelspec": {
   "display_name": "pptlayout",
   "language": "python",
   "name": "python3"
  },
  "language_info": {
   "codemirror_mode": {
    "name": "ipython",
    "version": 3
   },
   "file_extension": ".py",
   "mimetype": "text/x-python",
   "name": "python",
   "nbconvert_exporter": "python",
   "pygments_lexer": "ipython3",
   "version": "3.11.10"
  }
 },
 "nbformat": 4,
 "nbformat_minor": 2
}
