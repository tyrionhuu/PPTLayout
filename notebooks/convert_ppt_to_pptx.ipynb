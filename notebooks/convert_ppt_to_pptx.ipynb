{
 "cells": [
  {
   "cell_type": "code",
   "execution_count": null,
   "metadata": {},
   "outputs": [],
   "source": [
    "import os\n",
    "import subprocess\n",
    "from tqdm import tqdm\n",
    "\n",
    "def convert_file_to_pptx(file_path, output_directory):\n",
    "    \"\"\"Convert a presentation file to .pptx format using LibreOffice.\"\"\"\n",
    "    # Use subprocess to run the LibreOffice conversion command\n",
    "    libreoffice_path = \"/Applications/LibreOffice.app/Contents/MacOS/soffice\"\n",
    "    subprocess.run([libreoffice_path, \"--headless\", \"--convert-to\", \"pptx\", \"--outdir\", output_directory, file_path])\n",
    "\n",
    "def convert_all_presentations_in_directory(input_directory, output_directory):\n",
    "    \"\"\"Convert all supported presentation files in a directory to .pptx format.\"\"\"\n",
    "    # Define the list of file extensions to convert\n",
    "    supported_extensions = (\".ppt\", \".pps\", \".ppsx\", \".pptm\", \".pot\")\n",
    "\n",
    "    # Ensure the output directory exists\n",
    "    os.makedirs(output_directory, exist_ok=True)\n",
    "\n",
    "    # Get a list of files already converted in the output directory\n",
    "    existing_files = set(os.listdir(output_directory))\n",
    "\n",
    "    # Get all the presentation files in the input directory\n",
    "    files_to_convert = [\n",
    "        filename for filename in os.listdir(input_directory)\n",
    "        if filename.endswith(supported_extensions)\n",
    "    ]\n",
    "\n",
    "    # Iterate through the files with a progress bar\n",
    "    for filename in tqdm(files_to_convert, desc=\"Converting presentations\"):\n",
    "        file_path = os.path.join(input_directory, filename)\n",
    "        output_file = f\"{os.path.splitext(filename)[0]}.pptx\"\n",
    "        \n",
    "        if output_file in existing_files:\n",
    "            print(f\"'{output_file}' already exists in the output directory. Skipping conversion.\")\n",
    "            continue\n",
    "        \n",
    "        print(f\"Converting '{file_path}' to .pptx...\")\n",
    "        convert_file_to_pptx(file_path, output_directory)\n",
    "\n",
    "# Replace these paths with your actual directories\n",
    "input_directory = \"/Users/tyrionhuu/Downloads/ppt\"\n",
    "output_directory = \"/Users/tyrionhuu/Downloads/pptx_dataset\"\n",
    "\n",
    "convert_all_presentations_in_directory(input_directory, output_directory)"
   ]
  }
 ],
 "metadata": {
  "language_info": {
   "name": "python"
  }
 },
 "nbformat": 4,
 "nbformat_minor": 2
}
