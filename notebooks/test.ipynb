{
 "cells": [
  {
   "cell_type": "markdown",
   "metadata": {},
   "source": [
    "## Display the xml element tree"
   ]
  },
  {
   "cell_type": "code",
   "execution_count": null,
   "metadata": {
    "jupyter": {
     "is_executing": true
    }
   },
   "outputs": [],
   "source": [
    "from pptlayout.extractors.run_extractors import run_extractors\n",
    "from json import dumps\n",
    "# Replace with your actual PPTX file path\n",
    "pptx_path = \"/data/tianyuhu/PPTLayout/data/pptx/ZK7FNUZ33GBBCG7CFVYS56TQCTD72CJR.pptx\"\n",
    "\n",
    "# Run extractors\n",
    "info = run_extractors(pptx_path, \"emu\")\n",
    "print(dumps(info, indent=4))"
   ]
  },
  {
   "cell_type": "code",
   "execution_count": null,
   "metadata": {},
   "outputs": [],
   "source": [
    "import matplotlib.pyplot as plt\n",
    "import numpy as np\n",
    "import cv2\n",
    "# Load the image using OpenCV\n",
    "image_path = '/data/tianyuhu/PPTLayout/notebooks/test_input/image.png'\n",
    "image = cv2.imread(image_path)\n",
    "image = cv2.cvtColor(image, cv2.COLOR_BGR2RGB)  # Convert BGR to RGB for correct color display\n",
    "\n",
    "image_width = image.shape[1]\n",
    "image_height = image.shape[0]\n",
    "\n",
    "slide_width = 720\n",
    "slide_height = 540\n",
    "scale_x = slide_width / image_width\n",
    "scale_y = slide_height / image_height\n",
    "\n",
    "# Create a figure and display the image\n",
    "fig, ax = plt.subplots(figsize=(10, 8), dpi=300)\n",
    "ax.imshow(image)\n",
    "\n",
    "# Overlay grids\n",
    "ax.grid(color='green', linestyle='--', linewidth=0.5)  # Customize grid color and style\n",
    "interval_num = 20\n",
    "x_tick_interval = image_width // interval_num\n",
    "y_tick_interval = image_height // interval_num\n",
    "\n",
    "# Customize axis ticks and labels\n",
    "# Set the tick positions based on the image size\n",
    "ax.set_xticks(np.arange(0, image_width, x_tick_interval))\n",
    "ax.set_yticks(np.arange(0, image_height, y_tick_interval))\n",
    "\n",
    "# Set tick labels based on the slide size\n",
    "ax.set_xticklabels(np.round(np.arange(0, slide_width, x_tick_interval * scale_x), 2))\n",
    "ax.set_yticklabels(np.round(np.arange(0, slide_height, y_tick_interval * scale_y), 2))\n",
    "ax.xaxis.tick_top()\n",
    "\n",
    "# Set the ticks on the horizontal axis to 45 degrees\n",
    "plt.xticks(rotation=45)\n",
    "\n",
    "# Show axes\n",
    "ax.set_axis_on()\n",
    "plt.savefig('/data/tianyuhu/PPTLayout/notebooks/test_input/image_grid.png')\n",
    "\n",
    "# Display the image with the overlay\n",
    "plt.show()\n"
   ]
  },
  {
   "cell_type": "markdown",
   "metadata": {},
   "source": [
    "## test"
   ]
  },
  {
   "cell_type": "code",
   "execution_count": 1,
   "metadata": {},
   "outputs": [
    {
     "name": "stdout",
     "output_type": "stream",
     "text": [
      "You are an AI specialized in slide design improvement. Given the following JSON input representing the current slide layout, generate a visually appealing and improved slide design, considering best practices for slide layout and design balance. Maintain the semantic meaning of the content and adjust the positioning and sizes of shapes to enhance clarity and aesthetics.\n",
      "\n",
      "{'slide_id': 260, 'slide_name': '', 'shapes': [{'name': 'PlaceHolder 1', 'shape_id': 38, 'shape_type': 'PLACEHOLDER', 'measurement_unit': 'pt', 'height': 42.00944881889764, 'width': 510.0094488188976, 'left': 119.99055118110236, 'top': 11.990551181102362, 'text': 'NuMI baffle as prototype of target', 'placeholder_type': 'TITLE'}, {'name': 'Rectangle 38', 'shape_id': 39, 'shape_type': 'AUTO_SHAPE', 'measurement_unit': 'pt', 'height': 60.00944881889764, 'width': 180.0, 'left': 47.99055118110236, 'top': 432.0, 'text': ''}, {'name': 'Rectangle 39', 'shape_id': 40, 'shape_type': 'AUTO_SHAPE', 'measurement_unit': 'pt', 'height': 18.0, 'width': 47.99055118110236, 'left': 612.0, 'top': 281.9905511811024, 'text': ''}, {'name': 'Rectangle 40', 'shape_id': 41, 'shape_type': 'AUTO_SHAPE', 'measurement_unit': 'pt', 'height': 11.990551181102362, 'width': 113.98110236220472, 'left': 330.0094488188976, 'top': 330.0094488188976, 'text': ''}, {'name': 'Picture 41', 'shape_id': 42, 'shape_type': 'PICTURE', 'measurement_unit': 'pt', 'height': 264.2456692913386, 'width': 515.9905511811023, 'left': 137.99055118110238, 'top': 65.76377952755905, 'auto_shape_type': 'RECTANGLE'}, {'name': 'Rectangle 42', 'shape_id': 43, 'shape_type': 'AUTO_SHAPE', 'measurement_unit': 'pt', 'height': 50.59842519685039, 'width': 585.1275590551181, 'left': 55.92755905511811, 'top': 63.01417322834646, 'text': 'Graphite is good in compression, poor in tension,\\n   so put pre-stress at outer radius by encapsulating in aluminum or steel'}, {'name': 'Rectangle 43', 'shape_id': 44, 'shape_type': 'AUTO_SHAPE', 'measurement_unit': 'pt', 'height': 93.79842519685039, 'width': 690.6047244094489, 'left': 39.20314960629921, 'top': 396.0, 'text': 'Existing NuMI baffle is 1.5 m long, 6 cm diameter graphite encapsulated in aluminum\\n\\nTarget would be 1 m long, 1.5 cm diameter – not too different from our baffle;\\n\\t\\tget rid of air cooling fins, add water cooling tubes'}, {'name': 'PlaceHolder 2', 'shape_id': 3, 'shape_type': 'PLACEHOLDER', 'measurement_unit': 'pt', 'height': 29.99055118110236, 'width': 66.01889763779528, 'left': 605.9622047244095, 'top': 510.0094488188976, 'text': '5', 'placeholder_type': 'SLIDE_NUMBER'}]}\n",
      "\n",
      "Instructions:\n",
      "- Consider the image input that contains the screenshot of the slide.\n",
      "- Optimize the layout for readability and aesthetics.\n",
      "- Maintain logical grouping of related elements.\n",
      "- Propose adjustments to align shapes and text properly.\n",
      "- Suggest changes to colors or styles if necessary.\n",
      "\n"
     ]
    }
   ],
   "source": [
    "from pptlayout.extractors.run_extractors import run_extractors\n",
    "from pptlayout.llm.prompts import build_slide_layout_suggestion_prompts\n",
    "import os\n",
    "# Replace with your actual PPTX file path\n",
    "pptx_path = \"/data/tianyuhu/PPTLayout/data/pptx/ZK7FNUZ33GBBCG7CFVYS56TQCTD72CJR.pptx\"\n",
    "\n",
    "# Run extractors\n",
    "info = run_extractors(pptx_path, \"pt\")\n",
    "# print(dumps(info, indent=4))\n",
    "\n",
    "os.environ[\"CUDA_VISIBLE_DEVICES\"] = \"0\"\n",
    "test_image = \"/data/tianyuhu/PPTLayout/notebooks/test_input/image_grid.jpg\"\n",
    "prompt = \"\"\"You are an AI specialized in slide design improvement. Given the following JSON input representing the current slide layout, generate a visually appealing and improved slide design, considering best practices for slide layout and design balance. Maintain the semantic meaning of the content and adjust the positioning and sizes of shapes to enhance clarity and aesthetics.\n",
    "\n",
    "{}\n",
    "\n",
    "Instructions:\n",
    "- Consider the image input that contains the screenshot of the slide.\n",
    "- Optimize the layout for readability and aesthetics.\n",
    "- Maintain logical grouping of related elements.\n",
    "- Propose adjustments to align shapes and text properly.\n",
    "- Suggest changes to colors or styles if necessary.\n",
    "\"\"\".format(info[\"slides\"][4])\n",
    "# prompt = \"This is a slide from a presentation. The json form of the slide is {}. What can be improved in the layout of the slide and how? Give me some specific suggestions on how to improve the layout of the slide.\".format(info[\"slides\"][4])\n",
    "print(prompt)"
   ]
  },
  {
   "cell_type": "code",
   "execution_count": 2,
   "metadata": {},
   "outputs": [
    {
     "name": "stderr",
     "output_type": "stream",
     "text": [
      "`Qwen2VLRotaryEmbedding` can now be fully parameterized by passing the model config through the `config` argument. All other arguments will be removed in v4.46\n"
     ]
    },
    {
     "data": {
      "application/vnd.jupyter.widget-view+json": {
       "model_id": "b36b77de3e964d6c821609478a5f22e5",
       "version_major": 2,
       "version_minor": 0
      },
      "text/plain": [
       "Loading checkpoint shards:   0%|          | 0/5 [00:00<?, ?it/s]"
      ]
     },
     "metadata": {},
     "output_type": "display_data"
    }
   ],
   "source": [
    "from pptlayout.llm.llm import generate_slide_layout\n",
    "# suggestion = generate_slide_layout(\n",
    "#     model_name=\"Qwen2-VL-7B-Instruct\",\n",
    "#     prompt=prompt,\n",
    "#     images=[test_image],\n",
    "#     # json=True,\n",
    "#     ) \n",
    "# print(suggestion)\n",
    "# print(\"#\" * 50)\n",
    "# prompt = build_slide_layout_suggestion_prompts(\n",
    "#     json_input=info[\"slides\"][4],\n",
    "#     slide_width=info[\"slide_width\"],\n",
    "#     slide_height=info[\"slide_height\"],\n",
    "#     # suggestion=suggestion,\n",
    "#     )\n",
    "response = generate_slide_layout(\n",
    "    model_name=\"Qwen2-VL-7B-Instruct\",\n",
    "    prompt=prompt,\n",
    "    images=[test_image],\n",
    "    # json=True,\n",
    "    )"
   ]
  },
  {
   "cell_type": "code",
   "execution_count": 3,
   "metadata": {},
   "outputs": [
    {
     "name": "stdout",
     "output_type": "stream",
     "text": [
      "['Here is a proposed improvement for the slide design:\\n\\n1. **Remove the placeholder shapes**:\\n   - The \"PlaceHolder 1\" and \"PlaceHolder 2\" can be removed as they are not necessary for the content.\\n\\n2. **Adjust the text and image placement**:\\n   - Move the text \"NuMI baffle as prototype of target\" to the top of the slide, centered.\\n   - Place the image of the NuMI baffle in the center of the slide, slightly above the text.\\n   - Adjust the text \"Graphite is good in compression, poor in tension, so put pre-stress at outer radius by encapsulating in aluminum or steel\" to be centered below the image.\\n   - Place the text \"Existing NuMI baffle is 1.5 m long, 6 cm diameter graphite encapsulated in aluminum\" and \"Target would be 1 m long, 1.5 cm diameter – not too different from our baffle; get rid of air cooling fins, add water cooling tubes\" below the image, aligned to the left.\\n\\n3. **Adjust the text and image sizes**:\\n   - Increase the font size of the title to make it more prominent.\\n   - Adjust the font size of the text to ensure readability.\\n   - Ensure the image is large enough to be visible but not too large to overpower the text.\\n\\n4. **Remove unnecessary shapes**:\\n   - The \"Rectangle 38\" and \"Rectangle 39\" can be removed as they are not necessary for the content.\\n\\n5. **Adjust the layout for better balance**:\\n   - Place the text and image in a balanced manner, ensuring that the text is not too close to the image or the edges of the slide.\\n\\nHere is the updated JSON input with the proposed changes:\\n\\n```json\\n{\\n  \"slide_id\": 260,\\n  \"slide_name\": \"\",\\n  \"shapes\": [\\n    {\\n      \"name\": \"NuMI baffle as prototype of target\",\\n      \"shape_id\": 38,\\n      \"shape_type\": \"PLACEHOLDER\",\\n      \"measurement_unit\": \"pt\",\\n      \"height\": 42.00944881889764,\\n      \"width\": 510.0094488188976,\\n      \"left\": 119.99055118110236,\\n      \"top\": 11.990551181102362,\\n      \"text\": \"NuMI baffle as prototype of target\",\\n      \"placeholder_type\": \"TITLE\"\\n    },\\n    {\\n      \"name\": \"Picture 41\",\\n      \"shape_id\": 42,\\n      \"shape_type\": \"PICTURE\",\\n      \"measurement_unit\": \"pt\",\\n      \"height\": 264.2456692913386,\\n      \"width\": 515.9905511811023,\\n      \"left\": 137.99055118110238,\\n      \"top\": 65.76377952755905,\\n      \"auto_shape_type\": \"RECTANGLE\"\\n    },\\n    {\\n      \"name\": \"Text 43\",\\n      \"shape_id\": 44,\\n      \"shape_type\": \"TEXT_BOX\",\\n      \"measurement_unit\": \"pt\",\\n      \"height\": 93.79842519685039,\\n      \"width\": 690.6047244094489,\\n      \"left\": 39.20314960629921,\\n      \"top\": 396.0,\\n      \"text\": \"Existing NuMI baffle is 1.5 m long, 6 cm diameter graphite encapsulated in aluminum\\\\n\\\\nTarget would be 1 m long, 1.5 cm diameter – not too different from our baffle;\\\\n\\\\t\\\\tget rid of air cooling fins, add water cooling tubes\"\\n    }\\n  ]\\n}\\n```\\n\\nThis updated JSON input should result in a more visually appealing and balanced slide design.']\n"
     ]
    }
   ],
   "source": [
    "print(response)"
   ]
  },
  {
   "cell_type": "code",
   "execution_count": 5,
   "metadata": {},
   "outputs": [
    {
     "name": "stdout",
     "output_type": "stream",
     "text": [
      "{   \"slide_id\": 260,   \"slide_name\": \"\",   \"shapes\": [     {       \"name\": \"NuMI baffle as prototype of target\",       \"shape_id\": 38,       \"shape_type\": \"PLACEHOLDER\",       \"measurement_unit\": \"pt\",       \"height\": 42.00944881889764,       \"width\": 510.0094488188976,       \"left\": 119.99055118110236,       \"top\": 11.990551181102362,       \"text\": \"NuMI baffle as prototype of target\",       \"placeholder_type\": \"TITLE\"     },     {       \"name\": \"Picture 41\",       \"shape_id\": 42,       \"shape_type\": \"PICTURE\",       \"measurement_unit\": \"pt\",       \"height\": 264.2456692913386,       \"width\": 515.9905511811023,       \"left\": 137.99055118110238,       \"top\": 65.76377952755905,       \"auto_shape_type\": \"RECTANGLE\"     },     {       \"name\": \"Text 43\",       \"shape_id\": 44,       \"shape_type\": \"TEXT_BOX\",       \"measurement_unit\": \"pt\",       \"height\": 93.79842519685039,       \"width\": 690.6047244094489,       \"left\": 39.20314960629921,       \"top\": 396.0,       \"text\": \"Existing NuMI baffle is 1.5 m long, 6 cm diameter graphite encapsulated in aluminum\\n\\nTarget would be 1 m long, 1.5 cm diameter – not too different from our baffle;\\n\\t\\tget rid of air cooling fins, add water cooling tubes\"     }   ] }\n",
      "{\n",
      "    \"slide_id\": 260,\n",
      "    \"slide_name\": \"\",\n",
      "    \"shapes\": [\n",
      "        {\n",
      "            \"name\": \"NuMI baffle as prototype of target\",\n",
      "            \"shape_id\": 38,\n",
      "            \"shape_type\": \"PLACEHOLDER\",\n",
      "            \"measurement_unit\": \"pt\",\n",
      "            \"height\": 42.00944881889764,\n",
      "            \"width\": 510.0094488188976,\n",
      "            \"left\": 119.99055118110236,\n",
      "            \"top\": 11.990551181102362,\n",
      "            \"text\": \"NuMI baffle as prototype of target\",\n",
      "            \"placeholder_type\": \"TITLE\"\n",
      "        },\n",
      "        {\n",
      "            \"name\": \"Picture 41\",\n",
      "            \"shape_id\": 42,\n",
      "            \"shape_type\": \"PICTURE\",\n",
      "            \"measurement_unit\": \"pt\",\n",
      "            \"height\": 264.2456692913386,\n",
      "            \"width\": 515.9905511811023,\n",
      "            \"left\": 137.99055118110238,\n",
      "            \"top\": 65.76377952755905,\n",
      "            \"auto_shape_type\": \"RECTANGLE\"\n",
      "        },\n",
      "        {\n",
      "            \"name\": \"Text 43\",\n",
      "            \"shape_id\": 44,\n",
      "            \"shape_type\": \"TEXT_BOX\",\n",
      "            \"measurement_unit\": \"pt\",\n",
      "            \"height\": 93.79842519685039,\n",
      "            \"width\": 690.6047244094489,\n",
      "            \"left\": 39.20314960629921,\n",
      "            \"top\": 396.0,\n",
      "            \"text\": \"Existing NuMI baffle is 1.5 m long, 6 cm diameter graphite encapsulated in aluminum\\n\\nTarget would be 1 m long, 1.5 cm diameter \\u2013 not too different from our baffle;\\n\\t\\tget rid of air cooling fins, add water cooling tubes\"\n",
      "        }\n",
      "    ]\n",
      "}\n"
     ]
    }
   ],
   "source": [
    "from pptlayout.llm.parser import extract_json\n",
    "from json import dumps\n",
    "# Extract JSON data\n",
    "json_data = extract_json(response[0])\n",
    "print(dumps(json_data, indent=4))"
   ]
  },
  {
   "cell_type": "code",
   "execution_count": 6,
   "metadata": {},
   "outputs": [
    {
     "data": {
      "image/png": "[encoded data removed]",
      "text/plain": [
       "<Figure size 1500x500 with 2 Axes>"
      ]
     },
     "metadata": {},
     "output_type": "display_data"
    }
   ],
   "source": [
    "from pptlayout.visualizers.layout_visualizer import generate_comparison_grid\n",
    "\n",
    "generate_comparison_grid(\n",
    "    [info[\"slides\"][4]],\n",
    "    [json_data],\n",
    "    slide_width=info[\"slide_width\"],\n",
    "    slide_height=info[\"slide_height\"]\n",
    "    )\n",
    "    "
   ]
  },
  {
   "cell_type": "code",
   "execution_count": null,
   "metadata": {},
   "outputs": [],
   "source": []
  }
 ],
 "metadata": {
  "kernelspec": {
   "display_name": "pptlayout",
   "language": "python",
   "name": "python3"
  },
  "language_info": {
   "codemirror_mode": {
    "name": "ipython",
    "version": 3
   },
   "file_extension": ".py",
   "mimetype": "text/x-python",
   "name": "python",
   "nbconvert_exporter": "python",
   "pygments_lexer": "ipython3",
   "version": "3.11.10"
  }
 },
 "nbformat": 4,
 "nbformat_minor": 4
}
