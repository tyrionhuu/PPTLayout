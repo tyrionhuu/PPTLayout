{
 "cells": [
  {
   "cell_type": "code",
   "execution_count": 1,
   "metadata": {},
   "outputs": [
    {
     "name": "stdout",
     "output_type": "stream",
     "text": [
      "['/data/tianyuhu/anaconda3/envs/pptlayout/lib/python3.11/site-packages/torch']\n"
     ]
    },
    {
     "name": "stderr",
     "output_type": "stream",
     "text": [
      "/tmp/ipykernel_2991600/3688772998.py:5: FutureWarning: You are using `torch.load` with `weights_only=False` (the current default value), which uses the default pickle module implicitly. It is possible to construct malicious pickle data which will execute arbitrary code during unpickling (See https://github.com/pytorch/pytorch/blob/main/SECURITY.md#untrusted-models for more details). In a future release, the default value for `weights_only` will be flipped to `True`. This limits the functions that could be executed during unpickling. Arbitrary objects will no longer be allowed to be loaded via this mode unless they are explicitly allowlisted by the user via `torch.serialization.add_safe_globals`. We recommend you start setting `weights_only=True` for any use case where you don't have full control of the loaded file. Please open an issue on GitHub for any issues related to this experimental feature.\n",
      "  return torch.load(f)\n"
     ]
    }
   ],
   "source": [
    "import torch\n",
    "\n",
    "def read_pt(filename):\n",
    "    with open(filename, \"rb\") as f:\n",
    "        return torch.load(f)\n",
    "print(torch.__path__)\n",
    "file_path = \"/data/tianyuhu/PPTLayout/tests/data/dataset.pt\"\n",
    "\n",
    "data = read_pt(file_path)"
   ]
  },
  {
   "cell_type": "code",
   "execution_count": 2,
   "metadata": {},
   "outputs": [
    {
     "name": "stdout",
     "output_type": "stream",
     "text": [
      "[{'slide_id': '76_274', 'bounding_boxes': tensor([[0.9508, 0.0000, 1.0000, 0.0824],\n",
      "        [0.0505, 0.0000, 0.9508, 0.0824],\n",
      "        [0.7471, 0.0294, 0.9248, 0.0580],\n",
      "        [0.0529, 0.2454, 0.5000, 0.8349],\n",
      "        [0.5349, 0.2568, 0.5567, 0.2858],\n",
      "        [0.5568, 0.2604, 0.6110, 0.2839],\n",
      "        [0.5305, 0.3093, 0.9103, 0.3565],\n",
      "        [0.5305, 0.2817, 0.7772, 0.3153],\n",
      "        [0.5349, 0.3670, 0.5567, 0.3960],\n",
      "        [0.5568, 0.3706, 0.6127, 0.3942],\n",
      "        [0.5305, 0.4196, 0.9103, 0.4667],\n",
      "        [0.5305, 0.3919, 0.7772, 0.4255],\n",
      "        [0.5349, 0.5932, 0.5567, 0.6222],\n",
      "        [0.5568, 0.5968, 0.6157, 0.6204],\n",
      "        [0.5305, 0.6458, 0.9103, 0.6929],\n",
      "        [0.5305, 0.6181, 0.7772, 0.6517],\n",
      "        [0.5349, 0.7055, 0.5567, 0.7345],\n",
      "        [0.5568, 0.7090, 0.6116, 0.7326],\n",
      "        [0.5305, 0.7559, 0.9103, 0.8030],\n",
      "        [0.5305, 0.7303, 0.7772, 0.7639],\n",
      "        [0.5349, 0.4795, 0.5567, 0.5085],\n",
      "        [0.5568, 0.4831, 0.6199, 0.5066],\n",
      "        [0.5305, 0.5320, 0.9103, 0.5791],\n",
      "        [0.5305, 0.5043, 0.7772, 0.5380]]), 'labels': tensor([2, 2, 2, 3, 2, 2, 0, 0, 2, 2, 0, 0, 2, 2, 0, 0, 2, 2, 0, 0, 2, 2, 0, 0]), 'depth': tensor([ 0,  1,  2,  3,  4,  5,  6,  7,  8,  9, 10, 11, 12, 13, 14, 15, 16, 17,\n",
      "        18, 19, 20, 21, 22, 23]), 'rotation': tensor([0., 0., 0., 0., 0., 0., 0., 0., 0., 0., 0., 0., 0., 0., 0., 0., 0., 0., 0., 0., 0., 0., 0., 0.]), 'text_alignment': tensor([[0, 0],\n",
      "        [0, 0],\n",
      "        [0, 0],\n",
      "        [0, 0],\n",
      "        [1, 1],\n",
      "        [0, 0],\n",
      "        [0, 0],\n",
      "        [0, 2],\n",
      "        [1, 1],\n",
      "        [0, 0],\n",
      "        [0, 0],\n",
      "        [0, 2],\n",
      "        [1, 1],\n",
      "        [0, 0],\n",
      "        [0, 0],\n",
      "        [0, 2],\n",
      "        [1, 1],\n",
      "        [0, 0],\n",
      "        [0, 0],\n",
      "        [0, 2],\n",
      "        [1, 1],\n",
      "        [0, 0],\n",
      "        [0, 0],\n",
      "        [0, 2]])}, {'slide_id': '76_275', 'bounding_boxes': tensor([[0.0000, 0.0824, 1.0000, 0.4981],\n",
      "        [0.9508, 0.0000, 1.0000, 0.0824],\n",
      "        [0.0505, 0.0000, 0.9508, 0.0824],\n",
      "        [0.7471, 0.0294, 0.9248, 0.0580],\n",
      "        [0.3320, 0.2918, 0.4876, 0.3793],\n",
      "        [0.1521, 0.2918, 0.3078, 0.3793],\n",
      "        [0.5121, 0.2918, 0.6678, 0.3793],\n",
      "        [0.2013, 0.1799, 0.2586, 0.2809],\n",
      "        [0.3775, 0.1799, 0.4421, 0.2809],\n",
      "        [0.5576, 0.1799, 0.6223, 0.2809],\n",
      "        [0.3765, 0.2589, 0.4431, 0.2925],\n",
      "        [0.1973, 0.2589, 0.2625, 0.2925],\n",
      "        [0.5515, 0.2589, 0.6284, 0.2925],\n",
      "        [0.6922, 0.2918, 0.8479, 0.3793],\n",
      "        [0.7375, 0.1799, 0.8027, 0.2809],\n",
      "        [0.7354, 0.2589, 0.8048, 0.2925],\n",
      "        [0.1061, 0.6704, 0.8939, 0.7680],\n",
      "        [0.1061, 0.5634, 0.8939, 0.6664]]), 'labels': tensor([0, 2, 2, 2, 0, 0, 0, 2, 2, 2, 0, 0, 0, 0, 2, 0, 0, 0]), 'depth': tensor([ 0,  1,  2,  3,  4,  5,  6,  7,  8,  9, 10, 11, 12, 13, 14, 15, 16, 17]), 'rotation': tensor([0., 0., 0., 0., 0., 0., 0., 0., 0., 0., 0., 0., 0., 0., 0., 0., 0., 0.]), 'text_alignment': tensor([[1, 1],\n",
      "        [0, 0],\n",
      "        [0, 0],\n",
      "        [0, 0],\n",
      "        [1, 0],\n",
      "        [1, 0],\n",
      "        [1, 0],\n",
      "        [1, 0],\n",
      "        [1, 0],\n",
      "        [1, 0],\n",
      "        [1, 0],\n",
      "        [1, 0],\n",
      "        [1, 0],\n",
      "        [1, 0],\n",
      "        [1, 0],\n",
      "        [1, 0],\n",
      "        [1, 2],\n",
      "        [1, 2]])}, {'slide_id': '76_284', 'bounding_boxes': tensor([[0.9508, 0.0000, 1.0000, 0.0824],\n",
      "        [0.0505, 0.0000, 0.9508, 0.0824],\n",
      "        [0.7471, 0.0294, 0.9248, 0.0580],\n",
      "        [0.7514, 0.4451, 0.9491, 0.6974],\n",
      "        [0.5185, 0.4451, 0.7162, 0.6974],\n",
      "        [0.2831, 0.4451, 0.4808, 0.6974],\n",
      "        [0.0510, 0.4451, 0.2487, 0.6974],\n",
      "        [0.0479, 0.6989, 0.2518, 0.7326],\n",
      "        [0.0479, 0.7250, 0.2518, 0.7520],\n",
      "        [0.2800, 0.6989, 0.4839, 0.7326],\n",
      "        [0.2800, 0.7250, 0.4839, 0.7520],\n",
      "        [0.5154, 0.6989, 0.7193, 0.7326],\n",
      "        [0.5154, 0.7250, 0.7193, 0.7520],\n",
      "        [0.7483, 0.6989, 0.9522, 0.7326],\n",
      "        [0.7483, 0.7250, 0.9522, 0.7520],\n",
      "        [0.1477, 0.2640, 0.8523, 0.3677]]), 'labels': tensor([2, 2, 2, 3, 3, 3, 3, 0, 0, 0, 0, 0, 0, 0, 0, 0]), 'depth': tensor([ 0,  1,  2,  3,  4,  5,  6,  7,  8,  9, 10, 11, 12, 13, 14, 15]), 'rotation': tensor([0., 0., 0., 0., 0., 0., 0., 0., 0., 0., 0., 0., 0., 0., 0., 0.]), 'text_alignment': tensor([[0, 0],\n",
      "        [0, 0],\n",
      "        [0, 0],\n",
      "        [0, 0],\n",
      "        [0, 0],\n",
      "        [0, 0],\n",
      "        [0, 0],\n",
      "        [1, 0],\n",
      "        [1, 2],\n",
      "        [1, 0],\n",
      "        [1, 2],\n",
      "        [1, 0],\n",
      "        [1, 2],\n",
      "        [1, 0],\n",
      "        [1, 2],\n",
      "        [1, 2]])}]\n"
     ]
    }
   ],
   "source": [
    "print(data)"
   ]
  },
  {
   "cell_type": "code",
   "execution_count": null,
   "metadata": {},
   "outputs": [],
   "source": []
  }
 ],
 "metadata": {
  "kernelspec": {
   "display_name": "pptlayout",
   "language": "python",
   "name": "python3"
  },
  "language_info": {
   "codemirror_mode": {
    "name": "ipython",
    "version": 3
   },
   "file_extension": ".py",
   "mimetype": "text/x-python",
   "name": "python",
   "nbconvert_exporter": "python",
   "pygments_lexer": "ipython3",
   "version": "3.11.10"
  }
 },
 "nbformat": 4,
 "nbformat_minor": 2
}
