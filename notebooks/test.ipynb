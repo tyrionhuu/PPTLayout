{
 "cells": [
  {
   "cell_type": "markdown",
   "metadata": {},
   "source": [
    "## Display the xml element tree"
   ]
  },
  {
   "cell_type": "code",
   "execution_count": 2,
   "metadata": {},
   "outputs": [
    {
     "ename": "RuntimeError",
     "evalue": "Proxy error(TypeInitializationException): The type initializer for 'Gdip' threw an exception. ---> DllNotFoundException: Unable to load shared library 'libgdiplus' or one of its dependencies. In order to help diagnose loading problems, consider setting the LD_DEBUG environment variable: liblibgdiplus: cannot open shared object file: No such file or directory",
     "output_type": "error",
     "traceback": [
      "\u001b[0;31m---------------------------------------------------------------------------\u001b[0m",
      "\u001b[0;31mRuntimeError\u001b[0m                              Traceback (most recent call last)",
      "Cell \u001b[0;32mIn[2], line 40\u001b[0m\n\u001b[1;32m     38\u001b[0m ppt_path \u001b[38;5;241m=\u001b[39m \u001b[38;5;124m\"\u001b[39m\u001b[38;5;124m../data/ppt/ZWRR5ASRZI45L4R7QV7MLKIN3RH2GAHU.ppt\u001b[39m\u001b[38;5;124m\"\u001b[39m\n\u001b[1;32m     39\u001b[0m \u001b[38;5;28;01mif\u001b[39;00m ppt_path\u001b[38;5;241m.\u001b[39mendswith(\u001b[38;5;124m'\u001b[39m\u001b[38;5;124m.ppt\u001b[39m\u001b[38;5;124m'\u001b[39m):\n\u001b[0;32m---> 40\u001b[0m     pptx_path \u001b[38;5;241m=\u001b[39m \u001b[43mconvert_ppt_to_pptx\u001b[49m\u001b[43m(\u001b[49m\u001b[43mppt_path\u001b[49m\u001b[43m)\u001b[49m\n\u001b[1;32m     41\u001b[0m \u001b[38;5;28;01melse\u001b[39;00m:\n\u001b[1;32m     42\u001b[0m     pptx_path \u001b[38;5;241m=\u001b[39m ppt_path\n",
      "Cell \u001b[0;32mIn[2], line 11\u001b[0m, in \u001b[0;36mconvert_ppt_to_pptx\u001b[0;34m(ppt_path)\u001b[0m\n\u001b[1;32m      9\u001b[0m pptx_path \u001b[38;5;241m=\u001b[39m ppt_path\u001b[38;5;241m.\u001b[39mreplace(\u001b[38;5;124m'\u001b[39m\u001b[38;5;124m.ppt\u001b[39m\u001b[38;5;124m'\u001b[39m, \u001b[38;5;124m'\u001b[39m\u001b[38;5;124m.pptx\u001b[39m\u001b[38;5;124m'\u001b[39m)\n\u001b[1;32m     10\u001b[0m \u001b[38;5;28;01mwith\u001b[39;00m slides\u001b[38;5;241m.\u001b[39mPresentation(ppt_path) \u001b[38;5;28;01mas\u001b[39;00m presentation:\n\u001b[0;32m---> 11\u001b[0m     \u001b[43mpresentation\u001b[49m\u001b[38;5;241;43m.\u001b[39;49m\u001b[43msave\u001b[49m\u001b[43m(\u001b[49m\u001b[43mpptx_path\u001b[49m\u001b[43m,\u001b[49m\u001b[43m \u001b[49m\u001b[43mslides\u001b[49m\u001b[38;5;241;43m.\u001b[39;49m\u001b[43mexport\u001b[49m\u001b[38;5;241;43m.\u001b[39;49m\u001b[43mSaveFormat\u001b[49m\u001b[38;5;241;43m.\u001b[39;49m\u001b[43mPPTX\u001b[49m\u001b[43m)\u001b[49m\n\u001b[1;32m     12\u001b[0m \u001b[38;5;28;01mreturn\u001b[39;00m pptx_path\n",
      "\u001b[0;31mRuntimeError\u001b[0m: Proxy error(TypeInitializationException): The type initializer for 'Gdip' threw an exception. ---> DllNotFoundException: Unable to load shared library 'libgdiplus' or one of its dependencies. In order to help diagnose loading problems, consider setting the LD_DEBUG environment variable: liblibgdiplus: cannot open shared object file: No such file or directory"
     ]
    }
   ],
   "source": [
    "from pptx import Presentation\n",
    "import xml.etree.ElementTree as ET\n",
    "from io import BytesIO\n",
    "import os\n",
    "import aspose.slides as slides\n",
    "\n",
    "def convert_ppt_to_pptx(ppt_path):\n",
    "    \"\"\"Convert a .ppt file to .pptx using Aspose.\"\"\"\n",
    "    pptx_path = ppt_path.replace('.ppt', '.pptx')\n",
    "    with slides.Presentation(ppt_path) as presentation:\n",
    "        presentation.save(pptx_path, slides.export.SaveFormat.PPTX)\n",
    "    return pptx_path\n",
    "\n",
    "def display_xml_tree(element, level=0):\n",
    "    \"\"\"Recursively display XML element tree with indentation.\"\"\"\n",
    "    indent = \"  \" * level\n",
    "    print(f\"{indent}<{element.tag}>\")\n",
    "    for child in element:\n",
    "        display_xml_tree(child, level + 1)\n",
    "    if element.text and element.text.strip():\n",
    "        print(f\"{indent}  Text: {element.text.strip()}\")\n",
    "    print(f\"{indent}</{element.tag}>\")\n",
    "\n",
    "def get_slide_xml(slide):\n",
    "    \"\"\"Extract and parse XML from a slide.\"\"\"\n",
    "    slide_xml = slide.part.blob\n",
    "    return ET.ElementTree(ET.fromstring(slide_xml))\n",
    "\n",
    "def display_pptx_xml_tree(pptx_path):\n",
    "    \"\"\"Display XML element tree for each slide in a PPTX file.\"\"\"\n",
    "    presentation = Presentation(pptx_path)\n",
    "    for i, slide in enumerate(presentation.slides, start=1):\n",
    "        print(f\"\\nSlide {i} XML Tree:\")\n",
    "        slide_tree = get_slide_xml(slide)\n",
    "        display_xml_tree(slide_tree.getroot())\n",
    "\n",
    "# File path\n",
    "ppt_path = \"../data/ppt/ZWRR5ASRZI45L4R7QV7MLKIN3RH2GAHU.ppt\"\n",
    "if ppt_path.endswith('.ppt'):\n",
    "    pptx_path = convert_ppt_to_pptx(ppt_path)\n",
    "else:\n",
    "    pptx_path = ppt_path\n",
    "\n",
    "display_pptx_xml_tree(pptx_path)"
   ]
  },
  {
   "cell_type": "code",
   "execution_count": null,
   "metadata": {},
   "outputs": [],
   "source": []
  }
 ],
 "metadata": {
  "kernelspec": {
   "display_name": "pptlayout",
   "language": "python",
   "name": "python3"
  },
  "language_info": {
   "codemirror_mode": {
    "name": "ipython",
    "version": 3
   },
   "file_extension": ".py",
   "mimetype": "text/x-python",
   "name": "python",
   "nbconvert_exporter": "python",
   "pygments_lexer": "ipython3",
   "version": "3.11.10"
  }
 },
 "nbformat": 4,
 "nbformat_minor": 2
}
