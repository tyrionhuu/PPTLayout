{
 "cells": [
  {
   "cell_type": "markdown",
   "metadata": {},
   "source": [
    "## Display the xml element tree"
   ]
  },
  {
   "cell_type": "code",
   "execution_count": null,
   "metadata": {
    "jupyter": {
     "is_executing": true
    }
   },
   "outputs": [],
   "source": [
    "from pptlayout.extractors.run_extractors import run_extractors\n",
    "from json import dumps\n",
    "# Replace with your actual PPTX file path\n",
    "pptx_path = \"/data/tianyuhu/PPTLayout/data/pptx/ZK7FNUZ33GBBCG7CFVYS56TQCTD72CJR.pptx\"\n",
    "\n",
    "# Run extractors\n",
    "info = run_extractors(pptx_path, \"emu\")\n",
    "print(dumps(info, indent=4))"
   ]
  },
  {
   "cell_type": "code",
   "execution_count": null,
   "metadata": {},
   "outputs": [],
   "source": [
    "import matplotlib.pyplot as plt\n",
    "import numpy as np\n",
    "import cv2\n",
    "# Load the image using OpenCV\n",
    "image_path = '/data/tianyuhu/PPTLayout/notebooks/test_input/image.png'\n",
    "image = cv2.imread(image_path)\n",
    "image = cv2.cvtColor(image, cv2.COLOR_BGR2RGB)  # Convert BGR to RGB for correct color display\n",
    "\n",
    "image_width = image.shape[1]\n",
    "image_height = image.shape[0]\n",
    "\n",
    "slide_width = 720\n",
    "slide_height = 540\n",
    "scale_x = slide_width / image_width\n",
    "scale_y = slide_height / image_height\n",
    "\n",
    "# Create a figure and display the image\n",
    "fig, ax = plt.subplots(figsize=(10, 8), dpi=300)\n",
    "ax.imshow(image)\n",
    "\n",
    "# Overlay grids\n",
    "ax.grid(color='green', linestyle='--', linewidth=0.5)  # Customize grid color and style\n",
    "interval_num = 20\n",
    "x_tick_interval = image_width // interval_num\n",
    "y_tick_interval = image_height // interval_num\n",
    "\n",
    "# Customize axis ticks and labels\n",
    "# Set the tick positions based on the image size\n",
    "ax.set_xticks(np.arange(0, image_width, x_tick_interval))\n",
    "ax.set_yticks(np.arange(0, image_height, y_tick_interval))\n",
    "\n",
    "# Set tick labels based on the slide size\n",
    "ax.set_xticklabels(np.round(np.arange(0, slide_width, x_tick_interval * scale_x), 2))\n",
    "ax.set_yticklabels(np.round(np.arange(0, slide_height, y_tick_interval * scale_y), 2))\n",
    "ax.xaxis.tick_top()\n",
    "\n",
    "# Set the ticks on the horizontal axis to 45 degrees\n",
    "plt.xticks(rotation=45)\n",
    "\n",
    "# Show axes\n",
    "ax.set_axis_on()\n",
    "plt.savefig('/data/tianyuhu/PPTLayout/notebooks/test_input/image_grid.png')\n",
    "\n",
    "# Display the image with the overlay\n",
    "plt.show()\n"
   ]
  },
  {
   "cell_type": "markdown",
   "metadata": {},
   "source": [
    "## test"
   ]
  },
  {
   "cell_type": "code",
   "execution_count": null,
   "metadata": {},
   "outputs": [
    {
     "name": "stderr",
     "output_type": "stream",
     "text": [
      "`Qwen2VLRotaryEmbedding` can now be fully parameterized by passing the model config through the `config` argument. All other arguments will be removed in v4.46\n"
     ]
    },
    {
     "data": {
      "application/vnd.jupyter.widget-view+json": {
       "model_id": "04f7bab31fb54f2ca68110aedb29e919",
       "version_major": 2,
       "version_minor": 0
      },
      "text/plain": [
       "Loading checkpoint shards:   0%|          | 0/5 [00:00<?, ?it/s]"
      ]
     },
     "metadata": {},
     "output_type": "display_data"
    }
   ],
   "source": [
    "from pptlayout.extractors.run_extractors import run_extractors\n",
    "# Replace with your actual PPTX file path\n",
    "pptx_path = \"/data/tianyuhu/PPTLayout/data/pptx/ZK7FNUZ33GBBCG7CFVYS56TQCTD72CJR.pptx\"\n",
    "\n",
    "# Run extractors\n",
    "info = run_extractors(pptx_path, \"pt\")\n",
    "# print(dumps(info, indent=4))\n",
    "\n",
    "\n",
    "from pptlayout.llm.llm import generate_slide_layout\n",
    "from pptlayout.llm.prompts import build_slide_layout_suggestion_prompts\n",
    "test_image = \"/data/tianyuhu/PPTLayout/notebooks/test_input/image_grid.png\"\n",
    "prompt = \"What can be improved in the layout of the slide and how? Give me some specific suggestions on how to improve the layout of the slide.\"\n",
    "\n",
    "suggestion = generate_slide_layout(\n",
    "    model_name=\"Qwen2-VL-7B-Instruct\",\n",
    "    prompt=prompt,\n",
    "    images=[test_image],\n",
    "    # json=True,\n",
    "    ) \n",
    "print(suggestion)\n",
    "print(\"#\" * 50)\n",
    "prompt = build_slide_layout_suggestion_prompts(\n",
    "    json_input=info[\"slides\"][4],\n",
    "    slide_width=info[\"slide_width\"],\n",
    "    slide_height=info[\"slide_height\"],\n",
    "    suggestion=suggestion,\n",
    "    )\n",
    "response = generate_slide_layout(\n",
    "    model_name=\"Qwen2-VL-7B-Instruct\",\n",
    "    prompt=prompt,\n",
    "    images=[test_image],\n",
    "    # json=True,\n",
    "    )"
   ]
  },
  {
   "cell_type": "code",
   "execution_count": null,
   "metadata": {},
   "outputs": [],
   "source": [
    "print(response)"
   ]
  },
  {
   "cell_type": "code",
   "execution_count": null,
   "metadata": {},
   "outputs": [],
   "source": [
    "from pptlayout.llm.parser import extract_json\n",
    "from json import dumps\n",
    "# Extract JSON data\n",
    "json_data = extract_json(response)\n",
    "print(dumps(json_data, indent=4))"
   ]
  },
  {
   "cell_type": "code",
   "execution_count": null,
   "metadata": {},
   "outputs": [],
   "source": [
    "from pptlayout.visualizers.layout_visualizer import generate_comparison_grid\n",
    "\n",
    "generate_comparison_grid(\n",
    "    [info[\"slides\"][4]],\n",
    "    [json_data],\n",
    "    slide_width=info[\"slide_width\"],\n",
    "    slide_height=info[\"slide_height\"]\n",
    "    )\n",
    "    "
   ]
  }
 ],
 "metadata": {
  "kernelspec": {
   "display_name": "pptlayout",
   "language": "python",
   "name": "python3"
  },
  "language_info": {
   "codemirror_mode": {
    "name": "ipython",
    "version": 3
   },
   "file_extension": ".py",
   "mimetype": "text/x-python",
   "name": "python",
   "nbconvert_exporter": "python",
   "pygments_lexer": "ipython3",
   "version": "3.11.10"
  }
 },
 "nbformat": 4,
 "nbformat_minor": 4
}
