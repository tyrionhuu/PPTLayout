{
 "cells": [
  {
   "cell_type": "markdown",
   "metadata": {},
   "source": [
    "## Display the xml element tree"
   ]
  },
  {
   "cell_type": "code",
   "execution_count": null,
   "metadata": {
    "jupyter": {
     "is_executing": true
    }
   },
   "outputs": [],
   "source": [
    "from pptlayout.extractors.run_extractors import run_extractors\n",
    "from json import dumps\n",
    "# Replace with your actual PPTX file path\n",
    "pptx_path = \"/data/tianyuhu/PPTLayout/data/pptx/ZK7FNUZ33GBBCG7CFVYS56TQCTD72CJR.pptx\"\n",
    "\n",
    "# Run extractors\n",
    "info = run_extractors(pptx_path, \"emu\")\n",
    "print(dumps(info, indent=4))"
   ]
  },
  {
   "cell_type": "code",
   "execution_count": null,
   "metadata": {},
   "outputs": [],
   "source": [
    "from pptlayout.llm.call_ollama import generate_slide_layout_suggestions\n",
    "from pptlayout.llm.prompts import build_slide_layout_suggestion_prompts\n",
    "from tqdm import tqdm\n",
    "import os\n",
    "# Call OLLAMA\n",
    "output_dir = os.path.join(os.curdir, \"test_output\")\n",
    "suggestions_list = []\n",
    "for slide_info in tqdm(info[\"slides\"]):\n",
    "    slide_id = slide_info[\"slide_id\"]\n",
    "    slide_output_dir = os.path.join(output_dir, f\"{slide_id}\")\n",
    "    if os.path.exists(os.path.join(slide_output_dir, \"suggestions.txt\")):\n",
    "        with open(os.path.join(slide_output_dir, \"suggestions.txt\"), \"r\") as f:\n",
    "            suggestions = f.read()\n",
    "        suggestions_list.append(suggestions)\n",
    "        continue\n",
    "    prompt = build_slide_layout_suggestion_prompts(\n",
    "        json_input=slide_info, \n",
    "        slide_width=info[\"slide_width\"],\n",
    "        slide_height=info[\"slide_height\"]\n",
    "        )\n",
    "    suggestions = generate_slide_layout_suggestions(\n",
    "        model_name=\"llama3.1:70b\",\n",
    "        prompt=prompt,\n",
    "        temperature=0.5,\n",
    "        )\n",
    "    suggestions_list.append(suggestions)\n",
    "    # save\n",
    "    os.makedirs(slide_output_dir, exist_ok=True)\n",
    "    with open(os.path.join(slide_output_dir, \"suggestions.txt\"), \"w\") as f:\n",
    "        f.write(suggestions)"
   ]
  },
  {
   "cell_type": "code",
   "execution_count": null,
   "metadata": {},
   "outputs": [],
   "source": [
    "from pptlayout.llm.parser import extract_json\n",
    "json_list = []\n",
    "for suggestions in suggestions_list:\n",
    "    json_data = extract_json(suggestions)\n",
    "    json_list.append(json_data)"
   ]
  },
  {
   "cell_type": "code",
   "execution_count": null,
   "metadata": {},
   "outputs": [],
   "source": [
    "from json import dumps\n",
    "\n",
    "# print(dumps(json_list[12], indent=4))\n",
    "for json in json_list:\n",
    "    print(json)"
   ]
  },
  {
   "cell_type": "code",
   "execution_count": null,
   "metadata": {},
   "outputs": [],
   "source": [
    "from pptlayout.visualizers.layout_visualizer import generate_comparison_grid\n",
    "\n",
    "slides = info[\"slides\"]\n",
    "# Generate comparison grid\n",
    "comparison_grid = generate_comparison_grid(\n",
    "    slides,\n",
    "    json_list,\n",
    "    slide_width=info[\"slide_width\"],\n",
    "    slide_height=info[\"slide_height\"]\n",
    "    )"
   ]
  },
  {
   "cell_type": "markdown",
   "metadata": {},
   "source": [
    "## test"
   ]
  },
  {
   "cell_type": "code",
   "execution_count": null,
   "metadata": {},
   "outputs": [
    {
     "name": "stdout",
     "output_type": "stream",
     "text": [
      "The provided image is a page from an academic presentation that discusses the design and testing of a baffle for use in nuclear materials irradiation experiments. While the content appears to be well-organized and informative, there are some aspects of the slide layout that could be improved to enhance its overall effectiveness.\n",
      "\n",
      "*   **Image Size**: The image takes up most of the space on this page with no border around it, making the background text hard to read. \n",
      "*   **Text Spacing**: There is not enough white space between the title and photo of the baffle, the paragraph about the existing NuMI baffle, and the section explaining how they will modify that design for their baffle. The font size in the last paragraph could also be increased to make the text easier to read.\n",
      "*   **Alignment**: All three paragraphs are centered on this page, but it would likely be better if there was some white space or a thin line separating them from one another.\n",
      "\n",
      "By making these adjustments to the layout of the slide, the presentation will become easier for others to read and understand.\n"
     ]
    }
   ],
   "source": [
    "from pptlayout.extractors.run_extractors import run_extractors\n",
    "from json import dumps\n",
    "# Replace with your actual PPTX file path\n",
    "pptx_path = \"/data/tianyuhu/PPTLayout/data/pptx/ZK7FNUZ33GBBCG7CFVYS56TQCTD72CJR.pptx\"\n",
    "\n",
    "# Run extractors\n",
    "info = run_extractors(pptx_path, \"emu\")\n",
    "# print(dumps(info, indent=4))\n",
    "\n",
    "\n",
    "from pptlayout.llm.call_ollama import generate_slide_layout_suggestions\n",
    "from pptlayout.llm.prompts import build_slide_layout_suggestion_prompts\n",
    "test_image = \"/data/tianyuhu/PPTLayout/notebooks/test_input/image.png\"\n",
    "# prompt = build_slide_layout_suggestion_prompts(\n",
    "#     json_input=info[\"slides\"][4],\n",
    "#     slide_width=info[\"slide_width\"],\n",
    "#     slide_height=info[\"slide_height\"],\n",
    "#     )\n",
    "prompt = \"What can be improved just on the slide layout for a academic presentation?\"\n",
    "response = generate_slide_layout_suggestions(\n",
    "    model_name=\"llama3.2-vision:11b\",\n",
    "    prompt=prompt,\n",
    "    images=[test_image],\n",
    "    ) \n",
    "print(response)"
   ]
  },
  {
   "cell_type": "code",
   "execution_count": null,
   "metadata": {},
   "outputs": [],
   "source": [
    "from pptlayout.llm.parser import extract_json\n",
    "from json import dumps\n",
    "# Extract JSON data\n",
    "json_data = extract_json(response)\n",
    "print(dumps(json_data, indent=4))"
   ]
  },
  {
   "cell_type": "code",
   "execution_count": null,
   "metadata": {},
   "outputs": [],
   "source": [
    "from pptlayout.visualizers.layout_visualizer import generate_comparison_grid\n",
    "\n",
    "generate_comparison_grid(\n",
    "    [info[\"slides\"][4]],\n",
    "    [json_data],\n",
    "    slide_width=info[\"slide_width\"],\n",
    "    slide_height=info[\"slide_height\"]\n",
    "    )\n",
    "    "
   ]
  },
  {
   "cell_type": "code",
   "execution_count": null,
   "metadata": {},
   "outputs": [],
   "source": []
  }
 ],
 "metadata": {
  "kernelspec": {
   "display_name": "pptlayout",
   "language": "python",
   "name": "python3"
  },
  "language_info": {
   "codemirror_mode": {
    "name": "ipython",
    "version": 3
   },
   "file_extension": ".py",
   "mimetype": "text/x-python",
   "name": "python",
   "nbconvert_exporter": "python",
   "pygments_lexer": "ipython3",
   "version": "3.11.10"
  }
 },
 "nbformat": 4,
 "nbformat_minor": 4
}
