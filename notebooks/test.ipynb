{
 "cells": [
  {
   "cell_type": "markdown",
   "metadata": {},
   "source": [
    "## Display the xml element tree"
   ]
  },
  {
   "cell_type": "code",
   "execution_count": null,
   "metadata": {
    "jupyter": {
     "is_executing": true
    }
   },
   "outputs": [],
   "source": [
    "from pptlayout.extractors.run_extractors import run_extractors\n",
    "from json import dumps\n",
    "# Replace with your actual PPTX file path\n",
    "pptx_path = \"/data/tianyuhu/PPTLayout/data/pptx/ZK7FNUZ33GBBCG7CFVYS56TQCTD72CJR.pptx\"\n",
    "\n",
    "# Run extractors\n",
    "info = run_extractors(pptx_path, \"emu\")\n",
    "print(dumps(info, indent=4))"
   ]
  },
  {
   "cell_type": "code",
   "execution_count": null,
   "metadata": {},
   "outputs": [],
   "source": [
    "from pptlayout.llm.call_ollama import generate_slide_layout_suggestions\n",
    "from pptlayout.llm.prompts import build_slide_layout_suggestion_prompts\n",
    "from tqdm import tqdm\n",
    "import os\n",
    "# Call OLLAMA\n",
    "output_dir = os.path.join(os.curdir, \"test_output\")\n",
    "suggestions_list = []\n",
    "for slide_info in tqdm(info[\"slides\"]):\n",
    "    slide_id = slide_info[\"slide_id\"]\n",
    "    slide_output_dir = os.path.join(output_dir, f\"{slide_id}\")\n",
    "    if os.path.exists(os.path.join(slide_output_dir, \"suggestions.txt\")):\n",
    "        with open(os.path.join(slide_output_dir, \"suggestions.txt\"), \"r\") as f:\n",
    "            suggestions = f.read()\n",
    "        suggestions_list.append(suggestions)\n",
    "        continue\n",
    "    prompt = build_slide_layout_suggestion_prompts(\n",
    "        json_input=slide_info, \n",
    "        slide_width=info[\"slide_width\"],\n",
    "        slide_height=info[\"slide_height\"]\n",
    "        )\n",
    "    suggestions = generate_slide_layout_suggestions(\n",
    "        model_name=\"llama3.1:70b\",\n",
    "        prompt=prompt,\n",
    "        temperature=0.5,\n",
    "        )\n",
    "    suggestions_list.append(suggestions)\n",
    "    # save\n",
    "    os.makedirs(slide_output_dir, exist_ok=True)\n",
    "    with open(os.path.join(slide_output_dir, \"suggestions.txt\"), \"w\") as f:\n",
    "        f.write(suggestions)"
   ]
  },
  {
   "cell_type": "code",
   "execution_count": null,
   "metadata": {},
   "outputs": [],
   "source": [
    "from pptlayout.llm.parser import extract_json\n",
    "json_list = []\n",
    "for suggestions in suggestions_list:\n",
    "    json_data = extract_json(suggestions)\n",
    "    json_list.append(json_data)"
   ]
  },
  {
   "cell_type": "code",
   "execution_count": null,
   "metadata": {},
   "outputs": [],
   "source": [
    "from json import dumps\n",
    "\n",
    "# print(dumps(json_list[12], indent=4))\n",
    "for json in json_list:\n",
    "    print(json)"
   ]
  },
  {
   "cell_type": "code",
   "execution_count": null,
   "metadata": {},
   "outputs": [],
   "source": [
    "from pptlayout.visualizers.layout_visualizer import generate_comparison_grid\n",
    "\n",
    "slides = info[\"slides\"]\n",
    "# Generate comparison grid\n",
    "comparison_grid = generate_comparison_grid(\n",
    "    slides,\n",
    "    json_list,\n",
    "    slide_width=info[\"slide_width\"],\n",
    "    slide_height=info[\"slide_height\"]\n",
    "    )"
   ]
  },
  {
   "cell_type": "code",
   "execution_count": null,
   "metadata": {},
   "outputs": [],
   "source": [
    "from pptlayout.llm.call_ollama import generate_slide_layout_suggestions\n",
    "test_image = \"/data/tianyuhu/PPTLayout/notebooks/test_input/image.png\"\n",
    "import ollama\n",
    "# Call OLLAMA\n",
    "response = ollama.chat(\n",
    "    model='llama3.2-vision:11b',\n",
    "    messages=[{\n",
    "        'role': 'user',\n",
    "        'content': 'Please give me a detailed layout suggestion for this slide.',\n",
    "        'images': [test_image]\n",
    "    }]\n",
    ")[\"message\"][\"content\"]\n",
    "\n",
    "print(response)\n"
   ]
  },
  {
   "cell_type": "code",
   "execution_count": 2,
   "metadata": {},
   "outputs": [
    {
     "ename": "RuntimeError",
     "evalue": "Proxy error(TypeInitializationException): The type initializer for 'Gdip' threw an exception. ---> DllNotFoundException: Unable to load shared library 'libgdiplus' or one of its dependencies. In order to help diagnose loading problems, consider setting the LD_DEBUG environment variable: liblibgdiplus: cannot open shared object file: No such file or directory",
     "output_type": "error",
     "traceback": [
      "\u001b[0;31m---------------------------------------------------------------------------\u001b[0m",
      "\u001b[0;31mRuntimeError\u001b[0m                              Traceback (most recent call last)",
      "Cell \u001b[0;32mIn[2], line 6\u001b[0m\n\u001b[1;32m      4\u001b[0m out_dir \u001b[38;5;241m=\u001b[39m \u001b[38;5;124m\"\u001b[39m\u001b[38;5;124m/data/tianyuhu/PPTLayout/notebooks/test_output/jpg\u001b[39m\u001b[38;5;124m\"\u001b[39m\n\u001b[1;32m      5\u001b[0m \u001b[38;5;28;01mfor\u001b[39;00m sld \u001b[38;5;129;01min\u001b[39;00m pres\u001b[38;5;241m.\u001b[39mslides:\n\u001b[0;32m----> 6\u001b[0m     \u001b[38;5;28;01mwith\u001b[39;00m \u001b[43msld\u001b[49m\u001b[38;5;241;43m.\u001b[39;49m\u001b[43mget_image\u001b[49m\u001b[43m(\u001b[49m\u001b[38;5;241;43m1\u001b[39;49m\u001b[43m,\u001b[49m\u001b[43m \u001b[49m\u001b[38;5;241;43m1\u001b[39;49m\u001b[43m)\u001b[49m \u001b[38;5;28;01mas\u001b[39;00m bmp:\n\u001b[1;32m      7\u001b[0m         bmp\u001b[38;5;241m.\u001b[39msave(\u001b[38;5;124m\"\u001b[39m\u001b[38;5;132;01m{out_dir}\u001b[39;00m\u001b[38;5;124m/Slide_\u001b[39m\u001b[38;5;132;01m{num}\u001b[39;00m\u001b[38;5;124m.jpg\u001b[39m\u001b[38;5;124m\"\u001b[39m\u001b[38;5;241m.\u001b[39mformat(out_dir\u001b[38;5;241m=\u001b[39mout_dir, num\u001b[38;5;241m=\u001b[39m\u001b[38;5;28mstr\u001b[39m(sld\u001b[38;5;241m.\u001b[39mslide_number)), slides\u001b[38;5;241m.\u001b[39mImageFormat\u001b[38;5;241m.\u001b[39mJPEG)\n",
      "\u001b[0;31mRuntimeError\u001b[0m: Proxy error(TypeInitializationException): The type initializer for 'Gdip' threw an exception. ---> DllNotFoundException: Unable to load shared library 'libgdiplus' or one of its dependencies. In order to help diagnose loading problems, consider setting the LD_DEBUG environment variable: liblibgdiplus: cannot open shared object file: No such file or directory"
     ]
    }
   ],
   "source": [
    "import aspose.slides as slides\n",
    "\n",
    "pres = slides.Presentation(\"/data/tianyuhu/PPTLayout/data/pptx/ZK7FNUZ33GBBCG7CFVYS56TQCTD72CJR.pptx\")\n",
    "out_dir = \"/data/tianyuhu/PPTLayout/notebooks/test_output/jpg\"\n",
    "for sld in pres.slides:\n",
    "    with sld.get_image(1, 1) as bmp:\n",
    "        bmp.save(\"{out_dir}/Slide_{num}.jpg\".format(out_dir=out_dir, num=str(sld.slide_number)), slides.ImageFormat.JPEG)\n"
   ]
  }
 ],
 "metadata": {
  "kernelspec": {
   "display_name": "pptlayout",
   "language": "python",
   "name": "python3"
  },
  "language_info": {
   "codemirror_mode": {
    "name": "ipython",
    "version": 3
   },
   "file_extension": ".py",
   "mimetype": "text/x-python",
   "name": "python",
   "nbconvert_exporter": "python",
   "pygments_lexer": "ipython3",
   "version": "3.11.10"
  }
 },
 "nbformat": 4,
 "nbformat_minor": 4
}
